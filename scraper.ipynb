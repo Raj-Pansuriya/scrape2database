{
 "metadata": {
  "language_info": {
   "codemirror_mode": {
    "name": "ipython",
    "version": 3
   },
   "file_extension": ".py",
   "mimetype": "text/x-python",
   "name": "python",
   "nbconvert_exporter": "python",
   "pygments_lexer": "ipython3",
   "version": "3.8.6"
  },
  "orig_nbformat": 2,
  "kernelspec": {
   "name": "python386jvsc74a57bd0916dbcbb3f70747c44a77c7bcd40155683ae19c65e1c03b4aa3499c5328201f1",
   "display_name": "Python 3.8.6 64-bit"
  },
  "metadata": {
   "interpreter": {
    "hash": "916dbcbb3f70747c44a77c7bcd40155683ae19c65e1c03b4aa3499c5328201f1"
   }
  }
 },
 "nbformat": 4,
 "nbformat_minor": 2,
 "cells": [
  {
   "cell_type": "code",
   "execution_count": 1,
   "metadata": {},
   "outputs": [],
   "source": [
    "# importing required libraries\n",
    "import urllib.request\n",
    "from bs4 import BeautifulSoup as bs\n",
    "import re\n",
    "import pandas as pd\n",
    "import sqlite3"
   ]
  },
  {
   "cell_type": "code",
   "execution_count": 2,
   "metadata": {},
   "outputs": [],
   "source": [
    "# connecting with sqlite server and getting a cursor object to execute SQL queries\n",
    "conn = sqlite3.connect(\"python_doc.db\")        # Here I have named the database as 'test.db', you can changeit.\n",
    "c = conn.cursor()"
   ]
  },
  {
   "cell_type": "code",
   "execution_count": 3,
   "metadata": {},
   "outputs": [
    {
     "output_type": "stream",
     "name": "stdout",
     "text": [
      "fractions function_names length:  10\n",
      "fractions function_usages length:  11\n",
      "\n",
      "Parser detected that function_names and function_usage of 'fractions — Rational numbers' webpage does not have corresponding entries for each other, hence skipped that page\n",
      "\n",
      "------------------------------------------------------------------------------------------\n",
      "random function_names length:  25\n",
      "random function_usages length:  25\n",
      "\n",
      "'random — Generate pseudo-random numbers' data-table created successfully\n",
      "\n",
      "------------------------------------------------------------------------------------------\n",
      "statistics function_names length:  30\n",
      "statistics function_usages length:  30\n",
      "\n",
      "'statistics — Mathematical statistics functions' data-table created successfully\n",
      "\n",
      "------------------------------------------------------------------------------------------\n"
     ]
    }
   ],
   "source": [
    "# making a list of few urls taken randomly from python official doccumentation\n",
    "urls = [\"https://docs.python.org/3/library/fractions.html\",\"https://docs.python.org/3/library/random.html\", \"https://docs.python.org/3/library/statistics.html\"]\n",
    "\n",
    "\n",
    "modules = []\n",
    "git_modules = []\n",
    "\n",
    "for url in urls:\n",
    "# load html code from a webpage\n",
    "    page=urllib.request.urlopen(url)\n",
    "    soup=bs(page,\"lxml\")             # I am using 'lxml' parser, you can leave it blank to use the default html parser that comes with BeautifulSoup\n",
    "\n",
    "    # module name\n",
    "    heading = soup.body.find(\"h1\").text\n",
    "    module = heading.split()[0]\n",
    "\n",
    "    # git source code of the module\n",
    "    source=soup.body.find_all(\"a\",class_=\"reference external\")[0][\"href\"]\n",
    "\n",
    "\n",
    "    # All the function names\n",
    "    names = soup.body.find_all(\"dt\")\n",
    "    function_names = tuple(re.findall('id=\"({}.\\w+)'.format(module), str(names)))\n",
    "\n",
    "    # All the corresponding function usages\n",
    "    description = soup.body.find_all(\"dd\")\n",
    "    function_usage = tuple(item.text.replace('\\n', \" \")for item in description)\n",
    "\n",
    "    print(module, \"function_names length: \", len(function_names))\n",
    "    print(module, \"function_usages length: \", len(function_usage))\n",
    "    with conn:\n",
    "        try:\n",
    "            # Creating a dataframe\n",
    "            dataframe = pd.DataFrame({\"function_name\": function_names,\"function_usage\": function_usage}, index=range(1, len(function_names)+1))\n",
    "            modules.append(module)\n",
    "            git_modules.append(source)\n",
    "        except ValueError:\n",
    "            print(\"\\nParser detected that function_names and function_usage of '\" +str(heading[:-1])+\"' webpage does not have corresponding entries for each other, hence skipped that page\\n\")\n",
    "            print(\"\".center(90,\"-\"))\n",
    "        else:\n",
    "            # Converting it into a database table\n",
    "            dataframe.to_sql(\"{}\".format(module), conn, if_exists=\"replace\",index=False)\n",
    "            print(\"\\n'\"+str(heading[:-1]+\"' data-table created successfully\\n\"))\n",
    "            print(\"\".center(90,\"-\"))"
   ]
  },
  {
   "cell_type": "code",
   "execution_count": 4,
   "metadata": {},
   "outputs": [],
   "source": [
    "# Create a table to list all the modules and commit all the changes to the database\n",
    "with conn:\n",
    "    mod_frame = pd.DataFrame({\"module\": modules,\"source_code\":git_modules})\n",
    "    mod_frame.to_sql(\"module_list\", conn, if_exists=\"replace\",index=False)\n",
    "    conn.commit()"
   ]
  }
 ]
}